{
 "cells": [
  {
   "cell_type": "code",
   "execution_count": 6,
   "id": "6e2224ea-0c7f-4c2c-95ed-703182d47071",
   "metadata": {},
   "outputs": [
    {
     "name": "stdout",
     "output_type": "stream",
     "text": [
      " \n",
      "COVID Data Analysis\n",
      " \n"
     ]
    },
    {
     "data": {
      "image/png": "[encoded data removed]",
      "text/plain": [
       "<Figure size 432x288 with 1 Axes>"
      ]
     },
     "metadata": {
      "needs_background": "light"
     },
     "output_type": "display_data"
    },
    {
     "name": "stdout",
     "output_type": "stream",
     "text": [
      "Africa has the highest average death per infection (death percentage) and Oceania has the lowest. South America data also includes The Caribbean.\n",
      " \n"
     ]
    }
   ],
   "source": [
    "import pandas as pd\n",
    "import numpy as np\n",
    "import matplotlib.pyplot as plt\n",
    "\n",
    "# COVID-19 Data Analysis\n",
    "# Rini Christy's data found here (originally accessed 04/2022): https://www.kaggle.com/datasets/rinichristy/covid19-coronavirus-pandemic\n",
    "# Analysis by Victoria Porter, written in Python 3.9\n",
    "\n",
    "COVID_Dataset = pd.read_csv('C:/Users/Victoria/Documents/Python Practice/Datasets/COVID19_Coronavirus.csv', index_col = 0)\n",
    "\n",
    "print(\" \")\n",
    "print(\"COVID Data Analysis\")\n",
    "print(\" \")\n",
    "\n",
    "# print(COVID_Dataset['Continent'].unique())\n",
    "\n",
    "asia = COVID_Dataset[COVID_Dataset['Continent'] == 'Asia']\n",
    "africa = COVID_Dataset[COVID_Dataset['Continent'] == 'Africa']\n",
    "europe = COVID_Dataset[COVID_Dataset['Continent'] == 'Europe']\n",
    "south_america = COVID_Dataset[COVID_Dataset['Continent'] == 'Latin America and the Caribbean']\n",
    "oceania = COVID_Dataset[COVID_Dataset['Continent'] == 'Oceania']\n",
    "north_america = COVID_Dataset[COVID_Dataset['Continent'] == 'Northern America']\n",
    "\n",
    "asiaDPmean = asia['Death percentage'].mean()\n",
    "africaDPmean = africa['Death percentage'].mean()\n",
    "europeDPmean = europe['Death percentage'].mean()\n",
    "saDPmean = south_america['Death percentage'].mean()\n",
    "oceaniaDPmean = oceania['Death percentage'].mean()\n",
    "naDPmean = north_america['Death percentage'].mean()\n",
    "\n",
    "DP_bar = [asiaDPmean, africaDPmean, europeDPmean, saDPmean, oceaniaDPmean, naDPmean]\n",
    "DP_bar_labels = ['Asia', 'Africa', 'Europe', 'South A', 'Oceania', 'North A']\n",
    "\n",
    "plt.bar(DP_bar_labels, DP_bar)\n",
    "plt.title('Average Death Percentage by Continent')\n",
    "plt.show()\n",
    "print(\"Africa has the highest average death per infection (death percentage) and Oceania has the lowest. South America data also includes The Caribbean.\")\n",
    "print(\" \")"
   ]
  },
  {
   "cell_type": "code",
   "execution_count": 7,
   "id": "4f71e6d1-3cf4-4826-bb19-62cab9e2121f",
   "metadata": {},
   "outputs": [
    {
     "data": {
      "image/png": "[encoded data removed]",
      "text/plain": [
       "<Figure size 432x288 with 1 Axes>"
      ]
     },
     "metadata": {
      "needs_background": "light"
     },
     "output_type": "display_data"
    },
    {
     "name": "stdout",
     "output_type": "stream",
     "text": [
      "There exists a positive relationship between the increasing population of a country and an increased rate of death from infection (x scaled logarithmically for ease of interpretation). Two clear outliers exist, China and India, both of whom have the largest populations but, a death percentage of 2.997% and 1.212%, respectively. The countries with the largest death percentages, Yemen and The Western Sahara, had low to very low report rates, with only 10 cases reported in The Western Sahara.\n",
      " \n",
      "Other names                     China\n",
      "ISO 3166-1 alpha-3 CODE           CHN\n",
      "Population                 1439323776\n",
      "Continent                        Asia\n",
      "Total Cases                    154738\n",
      "Total Deaths                     4638\n",
      "Tot Cases//1M pop                 108\n",
      "Tot Deaths/1M pop                   3\n",
      "Death percentage             2.997325\n",
      "Name: China, dtype: object\n",
      " \n",
      "Other names                     India\n",
      "ISO 3166-1 alpha-3 CODE           IND\n",
      "Population                 1403754381\n",
      "Continent                        Asia\n",
      "Total Cases                  43029044\n",
      "Total Deaths                   521388\n",
      "Tot Cases//1M pop               30653\n",
      "Tot Deaths/1M pop                 371\n",
      "Death percentage             1.211712\n",
      "Name: India, dtype: object\n",
      " \n",
      "Other names                Western Sahara\n",
      "ISO 3166-1 alpha-3 CODE             ESHÂ \n",
      "Population                         623031\n",
      "Continent                          Africa\n",
      "Total Cases                            10\n",
      "Total Deaths                            1\n",
      "Tot Cases//1M pop                      16\n",
      "Tot Deaths/1M pop                       2\n",
      "Death percentage                     10.0\n",
      "Name: Western Sahara, dtype: object\n",
      " \n",
      "Other names                    Yemen\n",
      "ISO 3166-1 alpha-3 CODE          YEM\n",
      "Population                  30975258\n",
      "Continent                       Asia\n",
      "Total Cases                    11806\n",
      "Total Deaths                    2143\n",
      "Tot Cases//1M pop                381\n",
      "Tot Deaths/1M pop                 69\n",
      "Death percentage           18.151787\n",
      "Name: Yemen, dtype: object\n",
      " \n"
     ]
    }
   ],
   "source": [
    "plt.scatter(COVID_Dataset['Population'], COVID_Dataset['Death percentage'])\n",
    "plt.xscale('log')\n",
    "plt.xlabel('Population')\n",
    "plt.ylabel('Death per Infection (%)')\n",
    "plt.title('Death Per Infection (%) and Population (log)')\n",
    "plt.text(1439323776, 2.997325, \"China\")\n",
    "plt.text(1403754381, 1.211712, \"India\")\n",
    "plt.text(623031, 10.0, \"Western Sahara\")\n",
    "plt.text(30975258, 18.151787, \"Yemen\")\n",
    "plt.box(False)\n",
    "plt.show()  \n",
    "print(\"There exists a positive relationship between the increasing population of a country and an increased rate of death from infection (x scaled logarithmically for ease of interpretation). Two clear outliers exist, China and India, both of whom have the largest populations but, a death percentage of 2.997% and 1.212%, respectively. The countries with the largest death percentages, Yemen and The Western Sahara, had low to very low report rates, with only 10 cases reported in The Western Sahara.\")\n",
    "\n",
    "print(\" \")\n",
    "print(COVID_Dataset.loc['China'])\n",
    "print(\" \")\n",
    "print(COVID_Dataset.loc['India'])\n",
    "print(\" \")\n",
    "print(COVID_Dataset.loc['Western Sahara'])\n",
    "print(\" \")\n",
    "print(COVID_Dataset.loc['Yemen'])\n",
    "print(\" \")"
   ]
  },
  {
   "cell_type": "code",
   "execution_count": 8,
   "id": "5e0d1e83-3c0b-4d54-baed-a7c176919474",
   "metadata": {},
   "outputs": [
    {
     "name": "stdout",
     "output_type": "stream",
     "text": [
      " \n",
      "Population to Total Cases\n",
      " \n"
     ]
    },
    {
     "data": {
      "image/png": "[encoded data removed]",
      "text/plain": [
       "<Figure size 432x288 with 1 Axes>"
      ]
     },
     "metadata": {
      "needs_background": "light"
     },
     "output_type": "display_data"
    },
    {
     "name": "stdout",
     "output_type": "stream",
     "text": [
      "The relationship between population and total cases is positively correlated in countries with a population of approximately greater than one million people. A clear exception is China, who reported a very low number of cases, around 150,000, with a population of over a billion people. While this is, in part, due to not capturing all cases with reporting, China does have very strict lockdown measures and protocol, even building a temporary hospital in 10 days in Huoshenshan to manage overwhelm in healthcare in 2020. The USA has the most reported cases overall, with over 81 million people diagnosed so far. This can be attributed to bad pandemic policy by The Trump Administration at the beginning of the pandemic.\n",
      " \n",
      "Other names                     China\n",
      "ISO 3166-1 alpha-3 CODE           CHN\n",
      "Population                 1439323776\n",
      "Continent                        Asia\n",
      "Total Cases                    154738\n",
      "Total Deaths                     4638\n",
      "Tot Cases//1M pop                 108\n",
      "Tot Deaths/1M pop                   3\n",
      "Death percentage             2.997325\n",
      "Name: China, dtype: object\n",
      " \n",
      "Other names                United States of America\n",
      "ISO 3166-1 alpha-3 CODE                         USA\n",
      "Population                                334400597\n",
      "Continent                          Northern America\n",
      "Total Cases                                81839052\n",
      "Total Deaths                                1008222\n",
      "Tot Cases//1M pop                            244734\n",
      "Tot Deaths/1M pop                              3015\n",
      "Death percentage                           1.231957\n",
      "Name: USA, dtype: object\n",
      " \n"
     ]
    }
   ],
   "source": [
    "print(\" \")\n",
    "print(\"Population to Total Cases\")\n",
    "print(\" \")\n",
    "\n",
    "plt.scatter(COVID_Dataset['Population'], COVID_Dataset['Total Cases'])\n",
    "plt.xscale('log')\n",
    "plt.xlabel('Population')\n",
    "plt.ylabel('Total Cases (Tens of Millions)')\n",
    "plt.title('Total Cases and Population')\n",
    "plt.text(1439323776, 154738, \"China\")\n",
    "plt.text(334400597, 81839052, \"USA\")\n",
    "plt.box(False)\n",
    "plt.show()  \n",
    "print(\"The relationship between population and total cases is positively correlated in countries with a population of approximately greater than one million people. A clear exception is China, who reported a very low number of cases, around 150,000, with a population of over a billion people. While this is, in part, due to not capturing all cases with reporting, China does have very strict lockdown measures and protocol, even building a temporary hospital in 10 days in Huoshenshan to manage overwhelm in healthcare in 2020. The USA has the most reported cases overall, with over 81 million people diagnosed so far. This can be attributed to bad pandemic policy by The Trump Administration at the beginning of the pandemic.\")\n",
    "print(\" \")\n",
    "print(COVID_Dataset.loc['China'])\n",
    "print(\" \")\n",
    "print(COVID_Dataset.loc['USA'])\n",
    "print(\" \")"
   ]
  },
  {
   "cell_type": "code",
   "execution_count": 4,
   "id": "80c86c99-b664-4b14-a2e1-940d24e7a73f",
   "metadata": {},
   "outputs": [
    {
     "name": "stdout",
     "output_type": "stream",
     "text": [
      " \n",
      "Death Percentage below 1%\n",
      " \n",
      "              Total Cases  Total Deaths  Death percentage\n",
      "Country                                                  \n",
      "Andorra             40024           153          0.382271\n",
      "Anguilla             2700             9          0.333333\n",
      "Aruba               34051           212          0.622596\n",
      "Australia         4680816          6384          0.136386\n",
      "Austria           3887355         15985          0.411205\n",
      "...                   ...           ...               ...\n",
      "Uruguay            889513          7166          0.805609\n",
      "Uzbekistan         237853          1637          0.688240\n",
      "Vanuatu              4107             2          0.048697\n",
      "Vatican City           29             0          0.000000\n",
      "Vietnam           9818328         42600          0.433882\n",
      "\n",
      "[109 rows x 3 columns]\n"
     ]
    }
   ],
   "source": [
    "print(\" \")\n",
    "print(\"Death Percentage below 1%\")\n",
    "print(\" \")\n",
    "\n",
    "low_dthpr = COVID_Dataset[COVID_Dataset['Death percentage'] < 1]\n",
    "below1_first = low_dthpr.iloc[:, 4:6] # select columns 4 and 5\n",
    "below1_second = low_dthpr.iloc[:, 8:9] # select column 8\n",
    "below1 = below1_first.join(below1_second)\n",
    "print(below1)\n",
    "below1.to_csv('COVID_DP_below1.csv') # to file COVID_DP_below1.csv"
   ]
  },
  {
   "cell_type": "code",
   "execution_count": 5,
   "id": "db9538b0-e0b0-415a-ac92-c3c2ed398d8c",
   "metadata": {},
   "outputs": [
    {
     "name": "stdout",
     "output_type": "stream",
     "text": [
      " \n",
      "Population above 10,000 and Death Percentage above 4%\n",
      " \n",
      "                        Population  Total Cases  Total Deaths  \\\n",
      "Country                                                         \n",
      "Afghanistan               40462186       177827          7671   \n",
      "Bosnia and Herzegovina     3245097       375693         15719   \n",
      "Ecuador                   18111933       859890         35421   \n",
      "Egypt                    105711844       505264         24417   \n",
      "Mexico                   131303955      5665376        323212   \n",
      "Peru                      33775745      3548559        212328   \n",
      "Somalia                   16668781        26400          1348   \n",
      "Sudan                     45640385        61955          4907   \n",
      "Syria                     18244381        55711          3144   \n",
      "Western Sahara              623031           10             1   \n",
      "Yemen                     30975258        11806          2143   \n",
      "\n",
      "                        Death percentage  \n",
      "Country                                   \n",
      "Afghanistan                     4.313743  \n",
      "Bosnia and Herzegovina          4.184001  \n",
      "Ecuador                         4.119248  \n",
      "Egypt                           4.832523  \n",
      "Mexico                          5.705041  \n",
      "Peru                            5.983499  \n",
      "Somalia                         5.106061  \n",
      "Sudan                           7.920265  \n",
      "Syria                           5.643410  \n",
      "Western Sahara                 10.000000  \n",
      "Yemen                          18.151787  \n"
     ]
    }
   ],
   "source": [
    "print(\" \")\n",
    "print(\"Population above 10,000 and Death Percentage above 4%\")\n",
    "print(\" \")\n",
    "\n",
    "pop_dp_bool = np.logical_and(COVID_Dataset['Population'] > 10000, COVID_Dataset['Death percentage'] > 4)\n",
    "popten_dpfour = COVID_Dataset[pop_dp_bool] # create dataset from boolean list.\n",
    "pop_first = popten_dpfour.iloc[:, 2:3] #select column 2\n",
    "pop_second = popten_dpfour.iloc[:, 4:6] # select columns 4 and 5\n",
    "pop_third = popten_dpfour.iloc[:, 8:9] # select column 8\n",
    "pop_dp_temp = pop_first.join(pop_second) # join first and second columns\n",
    "pop_dp4 = pop_dp_temp.join(pop_third) # join third column\n",
    "print(pop_dp4)"
   ]
  },
  {
   "cell_type": "markdown",
   "id": "1cb4e284-18b1-4e70-b8c6-16dfb4024101",
   "metadata": {},
   "source": [
    "## "
   ]
  },
  {
   "cell_type": "code",
   "execution_count": null,
   "id": "cce59eb9-e97f-4460-a335-65158af2505c",
   "metadata": {},
   "outputs": [],
   "source": []
  }
 ],
 "metadata": {
  "kernelspec": {
   "display_name": "Python 3 (ipykernel)",
   "language": "python",
   "name": "python3"
  },
  "language_info": {
   "codemirror_mode": {
    "name": "ipython",
    "version": 3
   },
   "file_extension": ".py",
   "mimetype": "text/x-python",
   "name": "python",
   "nbconvert_exporter": "python",
   "pygments_lexer": "ipython3",
   "version": "3.9.12"
  }
 },
 "nbformat": 4,
 "nbformat_minor": 5
}
