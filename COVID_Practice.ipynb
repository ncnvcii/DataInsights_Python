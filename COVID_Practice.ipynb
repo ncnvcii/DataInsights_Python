{
 "cells": [
  {
   "cell_type": "code",
   "execution_count": 68,
   "id": "fef323c8-1ce4-497f-9ca7-d8646ef7bd65",
   "metadata": {},
   "outputs": [],
   "source": [
    "import pandas as pd\n",
    "import numpy as np\n",
    "import matplotlib.pyplot as plt"
   ]
  },
  {
   "cell_type": "code",
   "execution_count": 58,
   "id": "7e69c2b1-8030-4624-97fc-04798a0ab291",
   "metadata": {},
   "outputs": [],
   "source": [
    "# COVID-19 Data Analysis\n",
    "# Rini Christy's data found here (originally accessed 04/2022): https://www.kaggle.com/datasets/rinichristy/covid19-coronavirus-pandemic\n",
    "# Analysis by Victoria Porter, written in Python 3.9"
   ]
  },
  {
   "cell_type": "code",
   "execution_count": 121,
   "id": "1a3a8b30-e22a-4780-b59a-48aa30ba5d1b",
   "metadata": {},
   "outputs": [
    {
     "name": "stdout",
     "output_type": "stream",
     "text": [
      "['Asia' 'Europe' 'Africa' 'Latin America and the Caribbean' 'Oceania'\n",
      " 'Northern America']\n"
     ]
    },
    {
     "data": {
      "image/png": "[encoded data removed]",
      "text/plain": [
       "<Figure size 432x288 with 1 Axes>"
      ]
     },
     "metadata": {
      "needs_background": "light"
     },
     "output_type": "display_data"
    },
    {
     "name": "stdout",
     "output_type": "stream",
     "text": [
      "There's a positive relationship between the population of a country and rate of death from infection, x scaled logarithmically for ease of interpretation. Two clear outliers exist, China and India, both of whom have the largest populations but, a death percentage of 2.997% and 1.212%, respectively. The countries with the largest death percentages, Yemen and The Western Sahara, had low to very low report rates, with only 10 cases reported in The Western Sahara.\n",
      " \n",
      "Other names                     China\n",
      "ISO 3166-1 alpha-3 CODE           CHN\n",
      "Population                 1439323776\n",
      "Continent                        Asia\n",
      "Total Cases                    154738\n",
      "Total Deaths                     4638\n",
      "Tot Cases//1M pop                 108\n",
      "Tot Deaths/1M pop                   3\n",
      "Death percentage             2.997325\n",
      "Name: China, dtype: object\n",
      " \n",
      "Other names                     India\n",
      "ISO 3166-1 alpha-3 CODE           IND\n",
      "Population                 1403754381\n",
      "Continent                        Asia\n",
      "Total Cases                  43029044\n",
      "Total Deaths                   521388\n",
      "Tot Cases//1M pop               30653\n",
      "Tot Deaths/1M pop                 371\n",
      "Death percentage             1.211712\n",
      "Name: India, dtype: object\n",
      " \n",
      "Other names                Western Sahara\n",
      "ISO 3166-1 alpha-3 CODE             ESHÂ \n",
      "Population                         623031\n",
      "Continent                          Africa\n",
      "Total Cases                            10\n",
      "Total Deaths                            1\n",
      "Tot Cases//1M pop                      16\n",
      "Tot Deaths/1M pop                       2\n",
      "Death percentage                     10.0\n",
      "Name: Western Sahara, dtype: object\n",
      " \n",
      "Other names                    Yemen\n",
      "ISO 3166-1 alpha-3 CODE          YEM\n",
      "Population                  30975258\n",
      "Continent                       Asia\n",
      "Total Cases                    11806\n",
      "Total Deaths                    2143\n",
      "Tot Cases//1M pop                381\n",
      "Tot Deaths/1M pop                 69\n",
      "Death percentage           18.151787\n",
      "Name: Yemen, dtype: object\n",
      " \n",
      " \n",
      "Death Percentage below 1%\n",
      " \n",
      "              Total Cases  Total Deaths  Death percentage\n",
      "Country                                                  \n",
      "Andorra             40024           153          0.382271\n",
      "Anguilla             2700             9          0.333333\n",
      "Aruba               34051           212          0.622596\n",
      "Australia         4680816          6384          0.136386\n",
      "Austria           3887355         15985          0.411205\n",
      "...                   ...           ...               ...\n",
      "Uruguay            889513          7166          0.805609\n",
      "Uzbekistan         237853          1637          0.688240\n",
      "Vanuatu              4107             2          0.048697\n",
      "Vatican City           29             0          0.000000\n",
      "Vietnam           9818328         42600          0.433882\n",
      "\n",
      "[109 rows x 3 columns]\n",
      " \n",
      "Population above 10,000 and Death Percentage above 4%\n",
      " \n",
      "                        Population  Total Cases  Total Deaths  \\\n",
      "Country                                                         \n",
      "Afghanistan               40462186       177827          7671   \n",
      "Bosnia and Herzegovina     3245097       375693         15719   \n",
      "Ecuador                   18111933       859890         35421   \n",
      "Egypt                    105711844       505264         24417   \n",
      "Mexico                   131303955      5665376        323212   \n",
      "Peru                      33775745      3548559        212328   \n",
      "Somalia                   16668781        26400          1348   \n",
      "Sudan                     45640385        61955          4907   \n",
      "Syria                     18244381        55711          3144   \n",
      "Western Sahara              623031           10             1   \n",
      "Yemen                     30975258        11806          2143   \n",
      "\n",
      "                        Death percentage  \n",
      "Country                                   \n",
      "Afghanistan                     4.313743  \n",
      "Bosnia and Herzegovina          4.184001  \n",
      "Ecuador                         4.119248  \n",
      "Egypt                           4.832523  \n",
      "Mexico                          5.705041  \n",
      "Peru                            5.983499  \n",
      "Somalia                         5.106061  \n",
      "Sudan                           7.920265  \n",
      "Syria                           5.643410  \n",
      "Western Sahara                 10.000000  \n",
      "Yemen                          18.151787  \n"
     ]
    }
   ],
   "source": [
    "COVID_Dataset = pd.read_csv('C:/Users/Victoria/Documents/Python Practice/Datasets/COVID19_Coronavirus.csv', index_col = 0)\n",
    "\n",
    "# print(COVID_Dataset['Continent'].unique())\n",
    "\n",
    "asia = COVID_Dataset[COVID_Dataset['Continent'] == 'Asia']\n",
    "africa = COVID_Dataset[COVID_Dataset['Continent'] == 'Africa']\n",
    "europe = COVID_Dataset[COVID_Dataset['Continent'] == 'Europe']\n",
    "south_america = COVID_Dataset[COVID_Dataset['Continent'] == 'Latin America and the Caribbean']\n",
    "oceania = COVID_Dataset[COVID_Dataset['Continent'] == 'Oceania']\n",
    "north_america = COVID_Dataset[COVID_Dataset['Continent'] == 'Northern America']\n",
    "\n",
    "\n",
    "plt.scatter(COVID_Dataset['Population'], COVID_Dataset['Death percentage'])\n",
    "plt.xscale('log')\n",
    "plt.xlabel('Population')\n",
    "plt.ylabel('Death per Infection (%)')\n",
    "plt.title('Death Per Infection (%) to Population (log)')\n",
    "plt.show()  \n",
    "print(\"There's a positive relationship between the population of a country and rate of death from infection, x scaled logarithmically for ease of interpretation. Two clear outliers exist, China and India, both of whom have the largest populations but, a death percentage of 2.997% and 1.212%, respectively. The countries with the largest death percentages, Yemen and The Western Sahara, had low to very low report rates, with only 10 cases reported in The Western Sahara.\")\n",
    "\n",
    "print(\" \")\n",
    "print(COVID_Dataset.loc['China'])\n",
    "print(\" \")\n",
    "print(COVID_Dataset.loc['India'])\n",
    "print(\" \")\n",
    "print(COVID_Dataset.loc['Western Sahara'])\n",
    "print(\" \")\n",
    "print(COVID_Dataset.loc['Yemen'])\n",
    "print(\" \")\n",
    "\n",
    "print(\" \")\n",
    "print(\"Death Percentage below 1%\")\n",
    "print(\" \")\n",
    "\n",
    "low_dthpr = COVID_Dataset[COVID_Dataset['Death percentage'] < 1]\n",
    "below1_first = low_dthpr.iloc[:, 4:6] # select columns 4 and 5\n",
    "below1_second = low_dthpr.iloc[:, 8:9] # select column 8\n",
    "below1 = below1_first.join(below1_second)\n",
    "print(below1)\n",
    "\n",
    "print(\" \")\n",
    "print(\"Population above 10,000 and Death Percentage above 4%\")\n",
    "print(\" \")\n",
    "pop_dr_bool = np.logical_and(COVID_Dataset['Population'] > 10000, COVID_Dataset['Death percentage'] > 4)\n",
    "popten_drfour = COVID_Dataset[pop_dr_bool] # create dataset from boolean list.\n",
    "pop_first = popten_drfour.iloc[:, 2:3] #select column 2\n",
    "pop_second = popten_drfour.iloc[:, 4:6] # select columns 4 and 5\n",
    "pop_third = popten_drfour.iloc[:, 8:9] # select column 8\n",
    "pop_dr_temp = pop_first.join(pop_second) # join first and second columns\n",
    "pop_dr = pop_dr_temp.join(pop_third) # join third column\n",
    "print(pop_dr)\n"
   ]
  },
  {
   "cell_type": "markdown",
   "id": "1cb4e284-18b1-4e70-b8c6-16dfb4024101",
   "metadata": {},
   "source": [
    "## "
   ]
  },
  {
   "cell_type": "code",
   "execution_count": null,
   "id": "13b29431-ff2d-45f0-a66c-d608d6407a6a",
   "metadata": {},
   "outputs": [],
   "source": []
  }
 ],
 "metadata": {
  "kernelspec": {
   "display_name": "Python 3 (ipykernel)",
   "language": "python",
   "name": "python3"
  },
  "language_info": {
   "codemirror_mode": {
    "name": "ipython",
    "version": 3
   },
   "file_extension": ".py",
   "mimetype": "text/x-python",
   "name": "python",
   "nbconvert_exporter": "python",
   "pygments_lexer": "ipython3",
   "version": "3.9.12"
  }
 },
 "nbformat": 4,
 "nbformat_minor": 5
}
